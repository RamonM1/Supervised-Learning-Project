{
 "cells": [
  {
   "cell_type": "code",
   "execution_count": 1,
   "metadata": {},
   "outputs": [],
   "source": [
    "import pandas as pd\n",
    "from sklearn.preprocessing import StandardScaler, OneHotEncoder\n",
    "from sklearn.compose import ColumnTransformer\n",
    "from sklearn.pipeline import Pipeline"
   ]
  },
  {
   "cell_type": "code",
   "execution_count": 2,
   "metadata": {},
   "outputs": [],
   "source": [
    "file_path = r\"/Users/ramonmora/Desktop/TKH/Supervised-Learning-Project/clean_data.csv\"\n",
    "# Importing the data with the correct column names\n",
    "df = pd.read_csv(file_path, sep=',')"
   ]
  },
  {
   "cell_type": "code",
   "execution_count": 3,
   "metadata": {},
   "outputs": [],
   "source": [
    "random_sample  =df.sample(n=500000)"
   ]
  },
  {
   "cell_type": "code",
   "execution_count": 4,
   "metadata": {},
   "outputs": [],
   "source": [
    "# Defining numerical and categorical features\n",
    "numeric_features = ['amount', 'oldbalanceOrg', 'newbalanceOrig', 'oldbalanceDest', 'newbalanceDest']\n",
    "categorical_features = ['type']  # 'type' is a categorical feature in the dataset\n",
    "\n",
    "# Defining the preprocessing pipeline\n",
    "preprocessor = ColumnTransformer(transformers=[\n",
    "    ('num', StandardScaler(), numeric_features),\n",
    "    ('cat', OneHotEncoder(), categorical_features)\n",
    "])\n",
    "\n",
    "# Convert numeric values in categorical features to strings\n",
    "df[categorical_features] = df[categorical_features].astype(str)\n",
    "\n",
    "# Apply the preprocessing to the sample\n",
    "X_sample = random_sample.drop('isFraud',axis=1)\n",
    "y_sample = random_sample['isFraud']\n",
    "preprocessor.fit(X_sample)\n",
    "processed_X_sample = preprocessor.transform(X_sample)\n",
    "\n",
    "# Converting the processed sample back to DataFrame and adding the target column\n",
    "numeric_features_processed = [f\"{feature}_scaled\" for feature in numeric_features]\n",
    "categorical_features_encoded = preprocessor.named_transformers_['cat'].get_feature_names_out(categorical_features)\n",
    "all_features = numeric_features_processed + list(categorical_features_encoded)\n",
    "processed_sample_df = pd.DataFrame(processed_X_sample, columns=all_features)\n",
    "processed_sample_df['isFraud'] = y_sample.reset_index(drop=True)\n",
    "\n",
    "# Saving the data to a CSV file\n",
    "processed_sample_df.to_csv('process_data_sample.csv',index=False)"
   ]
  }
 ],
 "metadata": {
  "kernelspec": {
   "display_name": "phase1",
   "language": "python",
   "name": "python3"
  },
  "language_info": {
   "codemirror_mode": {
    "name": "ipython",
    "version": 3
   },
   "file_extension": ".py",
   "mimetype": "text/x-python",
   "name": "python",
   "nbconvert_exporter": "python",
   "pygments_lexer": "ipython3",
   "version": "3.9.18"
  }
 },
 "nbformat": 4,
 "nbformat_minor": 2
}
